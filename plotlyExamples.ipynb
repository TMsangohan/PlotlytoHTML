{
 "cells": [
  {
   "cell_type": "code",
   "execution_count": 38,
   "metadata": {
    "collapsed": false
   },
   "outputs": [
    {
     "data": {
      "text/html": [
       "<div id=\"a70690bb-38d8-4a16-aa6c-68aea90cc7a7\" style=\"height: 525; width: 100%;\" class=\"plotly-graph-div\"></div><script type=\"text/javascript\">require([\"plotly\"], function(Plotly) { window.PLOTLYENV=window.PLOTLYENV || {};window.PLOTLYENV.BASE_URL=\"https://plot.ly\";Plotly.newPlot(\"a70690bb-38d8-4a16-aa6c-68aea90cc7a7\", [{\"name\": \"2007\", \"yaxis\": \"y\", \"text\": [\"Afghanistan\", \"Albania\", \"Algeria\", \"Angola\", \"Argentina\", \"Australia\", \"Austria\", \"Bahrain\", \"Bangladesh\", \"Belgium\", \"Benin\", \"Bolivia\", \"Bosnia and Herzegovina\", \"Botswana\", \"Brazil\", \"Bulgaria\", \"Burkina Faso\", \"Burundi\", \"Cambodia\", \"Cameroon\", \"Canada\", \"Central African Republic\", \"Chad\", \"Chile\", \"China\", \"Colombia\", \"Comoros\", \"Congo, Dem. Rep.\", \"Congo, Rep.\", \"Costa Rica\", \"Cote d'Ivoire\", \"Croatia\", \"Cuba\", \"Czech Republic\", \"Denmark\", \"Djibouti\", \"Dominican Republic\", \"Ecuador\", \"Egypt\", \"El Salvador\", \"Equatorial Guinea\", \"Eritrea\", \"Ethiopia\", \"Finland\", \"France\", \"Gabon\", \"Gambia\", \"Germany\", \"Ghana\", \"Greece\", \"Guatemala\", \"Guinea\", \"Guinea-Bissau\", \"Haiti\", \"Honduras\", \"Hong Kong, China\", \"Hungary\", \"Iceland\", \"India\", \"Indonesia\", \"Iran\", \"Iraq\", \"Ireland\", \"Israel\", \"Italy\", \"Jamaica\", \"Japan\", \"Jordan\", \"Kenya\", \"Korea, Dem. Rep.\", \"Korea, Rep.\", \"Kuwait\", \"Lebanon\", \"Lesotho\", \"Liberia\", \"Libya\", \"Madagascar\", \"Malawi\", \"Malaysia\", \"Mali\", \"Mauritania\", \"Mauritius\", \"Mexico\", \"Mongolia\", \"Montenegro\", \"Morocco\", \"Mozambique\", \"Myanmar\", \"Namibia\", \"Nepal\", \"Netherlands\", \"New Zealand\", \"Nicaragua\", \"Niger\", \"Nigeria\", \"Norway\", \"Oman\", \"Pakistan\", \"Panama\", \"Paraguay\", \"Peru\", \"Philippines\", \"Poland\", \"Portugal\", \"Puerto Rico\", \"Reunion\", \"Romania\", \"Rwanda\", \"Sao Tome and Principe\", \"Saudi Arabia\", \"Senegal\", \"Serbia\", \"Sierra Leone\", \"Singapore\", \"Slovak Republic\", \"Slovenia\", \"Somalia\", \"South Africa\", \"Spain\", \"Sri Lanka\", \"Sudan\", \"Swaziland\", \"Sweden\", \"Switzerland\", \"Syria\", \"Taiwan\", \"Tanzania\", \"Thailand\", \"Togo\", \"Trinidad and Tobago\", \"Tunisia\", \"Turkey\", \"Uganda\", \"United Kingdom\", \"United States\", \"Uruguay\", \"Venezuela\", \"Vietnam\", \"West Bank and Gaza\", \"Yemen, Rep.\", \"Zambia\", \"Zimbabwe\"], \"mode\": \"markers\", \"xaxis\": \"x\", \"y\": [43.828, 76.423, 72.301, 42.731, 75.32, 81.235, 79.829, 75.635, 64.062, 79.441, 56.728, 65.554, 74.852, 50.728, 72.39, 73.005, 52.295, 49.58, 59.723, 50.43, 80.653, 44.74100000000001, 50.651, 78.553, 72.961, 72.889, 65.152, 46.461999999999996, 55.321999999999996, 78.782, 48.328, 75.748, 78.273, 76.486, 78.332, 54.791000000000004, 72.235, 74.994, 71.33800000000001, 71.878, 51.57899999999999, 58.04, 52.946999999999996, 79.313, 80.657, 56.735, 59.448, 79.406, 60.022, 79.483, 70.259, 56.007, 46.388000000000005, 60.916000000000004, 70.19800000000001, 82.208, 73.33800000000001, 81.757, 64.69800000000001, 70.65, 70.964, 59.545, 78.885, 80.745, 80.546, 72.567, 82.603, 72.535, 54.11, 67.297, 78.623, 77.58800000000001, 71.993, 42.592, 45.678000000000004, 73.952, 59.443000000000005, 48.303000000000004, 74.241, 54.467, 64.164, 72.801, 76.195, 66.803, 74.543, 71.164, 42.082, 62.068999999999996, 52.906000000000006, 63.785, 79.762, 80.204, 72.899, 56.867, 46.858999999999995, 80.196, 75.64, 65.483, 75.53699999999999, 71.752, 71.421, 71.688, 75.563, 78.098, 78.74600000000001, 76.442, 72.476, 46.242, 65.528, 72.777, 63.062, 74.002, 42.568000000000005, 79.972, 74.663, 77.926, 48.159, 49.339, 80.941, 72.396, 58.556000000000004, 39.613, 80.884, 81.70100000000001, 74.143, 78.4, 52.516999999999996, 70.616, 58.42, 69.819, 73.923, 71.777, 51.542, 79.425, 78.242, 76.384, 73.747, 74.249, 73.422, 62.698, 42.38399999999999, 43.486999999999995], \"x\": [974.5803384, 5937.029525999999, 6223.367465, 4797.231267, 12779.379640000001, 34435.367439999995, 36126.4927, 29796.048339999998, 1391.253792, 33692.60508, 1441.284873, 3822.1370840000004, 7446.298803, 12569.851770000001, 9065.800825, 10680.79282, 1217.032994, 430.07069160000003, 1713.7786859999999, 2042.0952399999999, 36319.235010000004, 706.016537, 1704.0637239999999, 13171.63885, 4959.1148539999995, 7006.580419, 986.1478792000001, 277.55185869999997, 3632.557798, 9645.06142, 1544.750112, 14619.222719999998, 8948.102923, 22833.30851, 35278.41874, 2082.4815670000003, 6025.374752000001, 6873.262326000001, 5581.180998, 5728.353514, 12154.08975, 641.3695236000001, 690.8055759, 33207.0844, 30470.0167, 13206.48452, 752.7497265, 32170.37442, 1327.60891, 27538.41188, 5186.050003, 942.6542111, 579.2317429999999, 1201.637154, 3548.3308460000003, 39724.97867, 18008.94444, 36180.789189999996, 2452.210407, 3540.6515640000002, 11605.71449, 4471.061906, 40675.99635, 25523.2771, 28569.7197, 7320.880262000001, 31656.06806, 4519.461171, 1463.249282, 1593.06548, 23348.139730000003, 47306.98978, 10461.05868, 1569.331442, 414.5073415, 12057.49928, 1044.770126, 759.3499101, 12451.6558, 1042.581557, 1803.1514960000002, 10956.99112, 11977.57496, 3095.7722710000003, 9253.896111, 3820.17523, 823.6856205, 944.0, 4811.060429, 1091.359778, 36797.93332, 25185.00911, 2749.320965, 619.6768923999999, 2013.9773050000001, 49357.19017, 22316.19287, 2605.94758, 9809.185636, 4172.838464, 7408.905561, 3190.481016, 15389.924680000002, 20509.64777, 19328.70901, 7670.122558, 10808.47561, 863.0884639000001, 1598.435089, 21654.83194, 1712.4721359999999, 9786.534714, 862.5407561000001, 47143.179639999995, 18678.31435, 25768.25759, 926.1410683, 9269.657808, 28821.0637, 3970.0954070000003, 2602.394995, 4513.480643, 33859.74835, 37506.419069999996, 4184.548089, 28718.27684, 1107.482182, 7458.3963269999995, 882.9699437999999, 18008.50924, 7092.923025, 8458.276384, 1056.3801210000001, 33203.26128, 42951.65309, 10611.46299, 11415.805690000001, 2441.576404, 3025.349798, 2280.769906, 1271.211593, 469.70929810000007]}, {\"name\": \"1952\", \"text\": [\"Afghanistan\", \"Albania\", \"Algeria\", \"Angola\", \"Argentina\", \"Australia\", \"Austria\", \"Bahrain\", \"Bangladesh\", \"Belgium\", \"Benin\", \"Bolivia\", \"Bosnia and Herzegovina\", \"Botswana\", \"Brazil\", \"Bulgaria\", \"Burkina Faso\", \"Burundi\", \"Cambodia\", \"Cameroon\", \"Canada\", \"Central African Republic\", \"Chad\", \"Chile\", \"China\", \"Colombia\", \"Comoros\", \"Congo, Dem. Rep.\", \"Congo, Rep.\", \"Costa Rica\", \"Cote d'Ivoire\", \"Croatia\", \"Cuba\", \"Czech Republic\", \"Denmark\", \"Djibouti\", \"Dominican Republic\", \"Ecuador\", \"Egypt\", \"El Salvador\", \"Equatorial Guinea\", \"Eritrea\", \"Ethiopia\", \"Finland\", \"France\", \"Gabon\", \"Gambia\", \"Germany\", \"Ghana\", \"Greece\", \"Guatemala\", \"Guinea\", \"Guinea-Bissau\", \"Haiti\", \"Honduras\", \"Hong Kong, China\", \"Hungary\", \"Iceland\", \"India\", \"Indonesia\", \"Iran\", \"Iraq\", \"Ireland\", \"Israel\", \"Italy\", \"Jamaica\", \"Japan\", \"Jordan\", \"Kenya\", \"Korea, Dem. Rep.\", \"Korea, Rep.\", \"Kuwait\", \"Lebanon\", \"Lesotho\", \"Liberia\", \"Libya\", \"Madagascar\", \"Malawi\", \"Malaysia\", \"Mali\", \"Mauritania\", \"Mauritius\", \"Mexico\", \"Mongolia\", \"Montenegro\", \"Morocco\", \"Mozambique\", \"Myanmar\", \"Namibia\", \"Nepal\", \"Netherlands\", \"New Zealand\", \"Nicaragua\", \"Niger\", \"Nigeria\", \"Norway\", \"Oman\", \"Pakistan\", \"Panama\", \"Paraguay\", \"Peru\", \"Philippines\", \"Poland\", \"Portugal\", \"Puerto Rico\", \"Reunion\", \"Romania\", \"Rwanda\", \"Sao Tome and Principe\", \"Saudi Arabia\", \"Senegal\", \"Serbia\", \"Sierra Leone\", \"Singapore\", \"Slovak Republic\", \"Slovenia\", \"Somalia\", \"South Africa\", \"Spain\", \"Sri Lanka\", \"Sudan\", \"Swaziland\", \"Sweden\", \"Switzerland\", \"Syria\", \"Taiwan\", \"Tanzania\", \"Thailand\", \"Togo\", \"Trinidad and Tobago\", \"Tunisia\", \"Turkey\", \"Uganda\", \"United Kingdom\", \"United States\", \"Uruguay\", \"Venezuela\", \"Vietnam\", \"West Bank and Gaza\", \"Yemen, Rep.\", \"Zambia\", \"Zimbabwe\"], \"mode\": \"markers\", \"xaxis\": \"x1\", \"y\": [28.801, 55.23, 43.077, 30.015, 62.485, 69.12, 66.8, 50.93899999999999, 37.484, 68.0, 38.223, 40.414, 53.82, 47.622, 50.917, 59.6, 31.975, 39.031, 39.417, 38.523, 68.75, 35.463, 38.092, 54.745, 44.0, 50.643, 40.715, 39.143, 42.111000000000004, 57.206, 40.477, 61.21, 59.42100000000001, 66.87, 70.78, 34.812, 45.928000000000004, 48.357, 41.893, 45.262, 34.482, 35.928000000000004, 34.078, 66.55, 67.41, 37.003, 30.0, 67.5, 43.148999999999994, 65.86, 42.023, 33.609, 32.5, 37.579, 41.912, 60.96, 64.03, 72.49, 37.373000000000005, 37.468, 44.869, 45.32, 66.91, 65.39, 65.94, 58.53, 63.03, 43.158, 42.27, 50.056000000000004, 47.453, 55.565, 55.928000000000004, 42.138000000000005, 38.48, 42.723, 36.681, 36.256, 48.463, 33.685, 40.543, 50.986000000000004, 50.788999999999994, 42.244, 59.163999999999994, 42.873000000000005, 31.285999999999998, 36.319, 41.725, 36.157, 72.13, 69.39, 42.31399999999999, 37.444, 36.324, 72.67, 37.578, 43.43600000000001, 55.191, 62.648999999999994, 43.902, 47.751999999999995, 61.31, 59.82, 64.28, 52.724, 61.05, 40.0, 46.471000000000004, 39.875, 37.278, 57.996, 30.331, 60.396, 64.36, 65.57, 32.978, 45.00899999999999, 64.94, 57.593, 38.635, 41.407, 71.86, 69.62, 45.883, 58.5, 41.215, 50.848, 38.596, 59.1, 44.6, 43.585, 39.978, 69.18, 68.44, 66.071, 55.088, 40.412, 43.16, 32.548, 42.038000000000004, 48.451], \"x\": [779.4453145, 1601.056136, 2449.008185, 3520.610273, 5911.315053, 10039.595640000001, 6137.076492, 9867.084765000001, 684.2441716, 8343.105126999999, 1062.7522, 2677.3263469999997, 973.5331947999999, 851.2411407, 2108.944355, 2444.2866480000002, 543.2552413, 339.29645869999996, 368.46928560000003, 1172.667655, 11367.16112, 1071.310713, 1178.665927, 3939.9787890000002, 400.448610699994, 2144.115096, 1102.990936, 780.5423257, 2125.621418, 2627.0094710000003, 1388.594732, 3119.23652, 5586.53878, 6876.14025, 9692.385245, 2669.529475, 1397.7171369999999, 3522.110717, 1418.822445, 3048.3029, 375.6431231, 328.94055710000004, 362.1462796, 6424.519071, 7029.809327, 4293.476475, 485.2306591, 7144.114393000001, 911.2989371, 3530.690067, 2428.2377690000003, 510.19649230000005, 299.850319, 1840.366939, 2194.926204, 3054.421209, 5263.6738159999995, 7267.688428, 546.5657493, 749.6816546, 3035.326002, 4129.766056, 5210.280328, 4086.522128, 4931.404154999999, 2898.5308809999997, 3216.956347, 1546.907807, 853.5409189999999, 1088.277758, 1030.592226, 108382.3529, 4834.804067, 298.8462121, 575.5729961000001, 2387.54806, 1443.011715, 369.1650802, 1831.132894, 452.3369807, 743.1159097, 1967.955707, 3478.125529, 786.5668575, 2647.585601, 1688.20357, 468.5260381, 331.0, 2423.780443, 545.8657228999999, 8941.571858, 10556.575659999999, 3112.363948, 761.879376, 1077.281856, 10095.42172, 1828.230307, 684.5971437999999, 2480.380334, 1952.3087010000002, 3758.523437, 1272.880995, 4029.3296990000003, 3068.319867, 3081.959785, 2718.885295, 3144.613186, 493.32387520000003, 879.5835855, 6459.5548229999995, 1450.356983, 3581.4594479999996, 879.7877358, 2315.138227, 5074.659104, 4215.041741, 1135.749842, 4725.295531000001, 3834.0347420000003, 1083.53203, 1615.991129, 1148.376626, 8527.844662000001, 14734.23275, 1643.485354, 1206.947913, 716.6500721, 757.7974177, 859.8086567, 3023.271928, 1468.475631, 1969.1009800000002, 734.753484, 9979.508487000001, 13990.482080000002, 5716.766744, 7689.799761, 605.0664917, 1515.5923289999998, 781.7175761, 1147.388831, 406.8841148]}], {\"yaxis1\": {\"domain\": [0.78, 1.0], \"title\": \"test\"}, \"xaxis\": {\"domain\": [0.0, 0.22], \"type\": \"log\", \"title\": \"GDP per Capita\"}, \"xaxis1\": {\"domain\": [0.78, 1.0], \"title\": \"test\"}, \"yaxis\": {\"domain\": [0.0, 0.22], \"title\": \"Life Expectancy\"}}, {\"linkText\": \"Export to plot.ly\", \"showLink\": true})});</script>"
      ],
      "text/plain": [
       "<IPython.core.display.HTML object>"
      ]
     },
     "metadata": {},
     "output_type": "display_data"
    }
   ],
   "source": [
    "# Learn about API authentication here: https://plot.ly/pandas/getting-started\n",
    "# Find your api_key here: https://plot.ly/settings/api\n",
    "\n",
    "from plotly import __version__\n",
    "from plotly.offline import download_plotlyjs, init_notebook_mode, iplot\n",
    "from plotly.offline import plot\n",
    "from plotly.graph_objs import Scatter\n",
    "\n",
    "init_notebook_mode() \n",
    "\n",
    "import plotly as py\n",
    "import pandas as pd\n",
    "df = pd.read_csv('http://www.stat.ubc.ca/~jenny/notOcto/STAT545A/examples/gapminder/data/gapminderDataFiveYear.txt', sep='\\t')\n",
    "df2007 = df[df.year==2007]\n",
    "df1952 = df[df.year==1952]\n",
    "df.head(2)\n",
    "\n",
    "fig = {\n",
    "    'data': [\n",
    "        {\n",
    "  \t\t\t'x': df2007.gdpPercap, \n",
    "        \t'y': df2007.lifeExp, \n",
    "        \t'text': df2007.country, \n",
    "        \t'mode': 'markers', \n",
    "        \t'name': '2007',\n",
    "            \"xaxis\": \"x\",\n",
    "            \"yaxis\": \"y\"},\n",
    "        \n",
    "        {\n",
    "        \t'x': df1952.gdpPercap, \n",
    "        \t'y': df1952.lifeExp, \n",
    "        \t'text': df1952.country, \n",
    "        \t'mode': 'markers', \n",
    "        \t'name': '1952',\n",
    "            \"xaxis\": \"x1\"}\n",
    "    ],\n",
    "    'layout': {\n",
    "        'xaxis': {'domain':dms[0],'title': 'GDP per Capita', 'type': 'log'},\n",
    "        'yaxis': {'domain':dms[0],'title': \"Life Expectancy\"},\n",
    "        'xaxis1': {'domain':dms[3],'title': 'test'},\n",
    "        'yaxis1': {'domain':dms[3],'title': \"test\"}\n",
    "    }\n",
    "}\n",
    "\n",
    "# IPython notebook\n",
    "# py.iplot(fig, filename='pandas/multiple-scatter')\n",
    "\n",
    "url = iplot(fig)"
   ]
  },
  {
   "cell_type": "code",
   "execution_count": 14,
   "metadata": {
    "collapsed": false
   },
   "outputs": [
    {
     "name": "stdout",
     "output_type": "stream",
     "text": [
      "file:///Users/tommertens/Documents/CERN/Python/temp-plot.html\n"
     ]
    }
   ],
   "source": [
    "print url"
   ]
  },
  {
   "cell_type": "code",
   "execution_count": 15,
   "metadata": {
    "collapsed": false
   },
   "outputs": [
    {
     "data": {
      "text/plain": [
       "[[0.0, 0.22], [0.26, 0.48], [0.52, 0.74], [0.78, 1.0]]"
      ]
     },
     "execution_count": 15,
     "metadata": {},
     "output_type": "execute_result"
    }
   ],
   "source": [
    "d=0.04\n",
    "dms = [[i*d+i*(1-3*d)/4,i*d+((i+1)*(1-3*d)/4)] for i in range(4)]\n",
    "dms"
   ]
  },
  {
   "cell_type": "code",
   "execution_count": 24,
   "metadata": {
    "collapsed": false
   },
   "outputs": [
    {
     "ename": "NameError",
     "evalue": "name 'data' is not defined",
     "output_type": "error",
     "traceback": [
      "\u001b[0;31m---------------------------------------------------------------------------\u001b[0m",
      "\u001b[0;31mNameError\u001b[0m                                 Traceback (most recent call last)",
      "\u001b[0;32m<ipython-input-24-6137cde4893c>\u001b[0m in \u001b[0;36m<module>\u001b[0;34m()\u001b[0m\n\u001b[0;32m----> 1\u001b[0;31m \u001b[0mdata\u001b[0m\u001b[0;34m\u001b[0m\u001b[0m\n\u001b[0m",
      "\u001b[0;31mNameError\u001b[0m: name 'data' is not defined"
     ]
    }
   ],
   "source": [
    "data"
   ]
  },
  {
   "cell_type": "code",
   "execution_count": 25,
   "metadata": {
    "collapsed": false
   },
   "outputs": [
    {
     "data": {
      "text/plain": [
       "{'data': [{'mode': 'markers',\n",
       "   'name': '2007',\n",
       "   'text': 11                   Afghanistan\n",
       "   23                       Albania\n",
       "   35                       Algeria\n",
       "   47                        Angola\n",
       "   59                     Argentina\n",
       "   71                     Australia\n",
       "   83                       Austria\n",
       "   95                       Bahrain\n",
       "   107                   Bangladesh\n",
       "   119                      Belgium\n",
       "   131                        Benin\n",
       "   143                      Bolivia\n",
       "   155       Bosnia and Herzegovina\n",
       "   167                     Botswana\n",
       "   179                       Brazil\n",
       "   191                     Bulgaria\n",
       "   203                 Burkina Faso\n",
       "   215                      Burundi\n",
       "   227                     Cambodia\n",
       "   239                     Cameroon\n",
       "   251                       Canada\n",
       "   263     Central African Republic\n",
       "   275                         Chad\n",
       "   287                        Chile\n",
       "   299                        China\n",
       "   311                     Colombia\n",
       "   323                      Comoros\n",
       "   335             Congo, Dem. Rep.\n",
       "   347                  Congo, Rep.\n",
       "   359                   Costa Rica\n",
       "                     ...           \n",
       "   1355                Sierra Leone\n",
       "   1367                   Singapore\n",
       "   1379             Slovak Republic\n",
       "   1391                    Slovenia\n",
       "   1403                     Somalia\n",
       "   1415                South Africa\n",
       "   1427                       Spain\n",
       "   1439                   Sri Lanka\n",
       "   1451                       Sudan\n",
       "   1463                   Swaziland\n",
       "   1475                      Sweden\n",
       "   1487                 Switzerland\n",
       "   1499                       Syria\n",
       "   1511                      Taiwan\n",
       "   1523                    Tanzania\n",
       "   1535                    Thailand\n",
       "   1547                        Togo\n",
       "   1559         Trinidad and Tobago\n",
       "   1571                     Tunisia\n",
       "   1583                      Turkey\n",
       "   1595                      Uganda\n",
       "   1607              United Kingdom\n",
       "   1619               United States\n",
       "   1631                     Uruguay\n",
       "   1643                   Venezuela\n",
       "   1655                     Vietnam\n",
       "   1667          West Bank and Gaza\n",
       "   1679                 Yemen, Rep.\n",
       "   1691                      Zambia\n",
       "   1703                    Zimbabwe\n",
       "   Name: country, dtype: object,\n",
       "   'x': 11        974.580338\n",
       "   23       5937.029526\n",
       "   35       6223.367465\n",
       "   47       4797.231267\n",
       "   59      12779.379640\n",
       "   71      34435.367440\n",
       "   83      36126.492700\n",
       "   95      29796.048340\n",
       "   107      1391.253792\n",
       "   119     33692.605080\n",
       "   131      1441.284873\n",
       "   143      3822.137084\n",
       "   155      7446.298803\n",
       "   167     12569.851770\n",
       "   179      9065.800825\n",
       "   191     10680.792820\n",
       "   203      1217.032994\n",
       "   215       430.070692\n",
       "   227      1713.778686\n",
       "   239      2042.095240\n",
       "   251     36319.235010\n",
       "   263       706.016537\n",
       "   275      1704.063724\n",
       "   287     13171.638850\n",
       "   299      4959.114854\n",
       "   311      7006.580419\n",
       "   323       986.147879\n",
       "   335       277.551859\n",
       "   347      3632.557798\n",
       "   359      9645.061420\n",
       "               ...     \n",
       "   1355      862.540756\n",
       "   1367    47143.179640\n",
       "   1379    18678.314350\n",
       "   1391    25768.257590\n",
       "   1403      926.141068\n",
       "   1415     9269.657808\n",
       "   1427    28821.063700\n",
       "   1439     3970.095407\n",
       "   1451     2602.394995\n",
       "   1463     4513.480643\n",
       "   1475    33859.748350\n",
       "   1487    37506.419070\n",
       "   1499     4184.548089\n",
       "   1511    28718.276840\n",
       "   1523     1107.482182\n",
       "   1535     7458.396327\n",
       "   1547      882.969944\n",
       "   1559    18008.509240\n",
       "   1571     7092.923025\n",
       "   1583     8458.276384\n",
       "   1595     1056.380121\n",
       "   1607    33203.261280\n",
       "   1619    42951.653090\n",
       "   1631    10611.462990\n",
       "   1643    11415.805690\n",
       "   1655     2441.576404\n",
       "   1667     3025.349798\n",
       "   1679     2280.769906\n",
       "   1691     1271.211593\n",
       "   1703      469.709298\n",
       "   Name: gdpPercap, dtype: float64,\n",
       "   'xaxis': 'x',\n",
       "   'y': 11      43.828\n",
       "   23      76.423\n",
       "   35      72.301\n",
       "   47      42.731\n",
       "   59      75.320\n",
       "   71      81.235\n",
       "   83      79.829\n",
       "   95      75.635\n",
       "   107     64.062\n",
       "   119     79.441\n",
       "   131     56.728\n",
       "   143     65.554\n",
       "   155     74.852\n",
       "   167     50.728\n",
       "   179     72.390\n",
       "   191     73.005\n",
       "   203     52.295\n",
       "   215     49.580\n",
       "   227     59.723\n",
       "   239     50.430\n",
       "   251     80.653\n",
       "   263     44.741\n",
       "   275     50.651\n",
       "   287     78.553\n",
       "   299     72.961\n",
       "   311     72.889\n",
       "   323     65.152\n",
       "   335     46.462\n",
       "   347     55.322\n",
       "   359     78.782\n",
       "            ...  \n",
       "   1355    42.568\n",
       "   1367    79.972\n",
       "   1379    74.663\n",
       "   1391    77.926\n",
       "   1403    48.159\n",
       "   1415    49.339\n",
       "   1427    80.941\n",
       "   1439    72.396\n",
       "   1451    58.556\n",
       "   1463    39.613\n",
       "   1475    80.884\n",
       "   1487    81.701\n",
       "   1499    74.143\n",
       "   1511    78.400\n",
       "   1523    52.517\n",
       "   1535    70.616\n",
       "   1547    58.420\n",
       "   1559    69.819\n",
       "   1571    73.923\n",
       "   1583    71.777\n",
       "   1595    51.542\n",
       "   1607    79.425\n",
       "   1619    78.242\n",
       "   1631    76.384\n",
       "   1643    73.747\n",
       "   1655    74.249\n",
       "   1667    73.422\n",
       "   1679    62.698\n",
       "   1691    42.384\n",
       "   1703    43.487\n",
       "   Name: lifeExp, dtype: float64},\n",
       "  {'mode': 'markers', 'name': '1952', 'text': 0                    Afghanistan\n",
       "   12                       Albania\n",
       "   24                       Algeria\n",
       "   36                        Angola\n",
       "   48                     Argentina\n",
       "   60                     Australia\n",
       "   72                       Austria\n",
       "   84                       Bahrain\n",
       "   96                    Bangladesh\n",
       "   108                      Belgium\n",
       "   120                        Benin\n",
       "   132                      Bolivia\n",
       "   144       Bosnia and Herzegovina\n",
       "   156                     Botswana\n",
       "   168                       Brazil\n",
       "   180                     Bulgaria\n",
       "   192                 Burkina Faso\n",
       "   204                      Burundi\n",
       "   216                     Cambodia\n",
       "   228                     Cameroon\n",
       "   240                       Canada\n",
       "   252     Central African Republic\n",
       "   264                         Chad\n",
       "   276                        Chile\n",
       "   288                        China\n",
       "   300                     Colombia\n",
       "   312                      Comoros\n",
       "   324             Congo, Dem. Rep.\n",
       "   336                  Congo, Rep.\n",
       "   348                   Costa Rica\n",
       "                     ...           \n",
       "   1344                Sierra Leone\n",
       "   1356                   Singapore\n",
       "   1368             Slovak Republic\n",
       "   1380                    Slovenia\n",
       "   1392                     Somalia\n",
       "   1404                South Africa\n",
       "   1416                       Spain\n",
       "   1428                   Sri Lanka\n",
       "   1440                       Sudan\n",
       "   1452                   Swaziland\n",
       "   1464                      Sweden\n",
       "   1476                 Switzerland\n",
       "   1488                       Syria\n",
       "   1500                      Taiwan\n",
       "   1512                    Tanzania\n",
       "   1524                    Thailand\n",
       "   1536                        Togo\n",
       "   1548         Trinidad and Tobago\n",
       "   1560                     Tunisia\n",
       "   1572                      Turkey\n",
       "   1584                      Uganda\n",
       "   1596              United Kingdom\n",
       "   1608               United States\n",
       "   1620                     Uruguay\n",
       "   1632                   Venezuela\n",
       "   1644                     Vietnam\n",
       "   1656          West Bank and Gaza\n",
       "   1668                 Yemen, Rep.\n",
       "   1680                      Zambia\n",
       "   1692                    Zimbabwe\n",
       "   Name: country, dtype: object, 'x': 0         779.445314\n",
       "   12       1601.056136\n",
       "   24       2449.008185\n",
       "   36       3520.610273\n",
       "   48       5911.315053\n",
       "   60      10039.595640\n",
       "   72       6137.076492\n",
       "   84       9867.084765\n",
       "   96        684.244172\n",
       "   108      8343.105127\n",
       "   120      1062.752200\n",
       "   132      2677.326347\n",
       "   144       973.533195\n",
       "   156       851.241141\n",
       "   168      2108.944355\n",
       "   180      2444.286648\n",
       "   192       543.255241\n",
       "   204       339.296459\n",
       "   216       368.469286\n",
       "   228      1172.667655\n",
       "   240     11367.161120\n",
       "   252      1071.310713\n",
       "   264      1178.665927\n",
       "   276      3939.978789\n",
       "   288       400.448611\n",
       "   300      2144.115096\n",
       "   312      1102.990936\n",
       "   324       780.542326\n",
       "   336      2125.621418\n",
       "   348      2627.009471\n",
       "               ...     \n",
       "   1344      879.787736\n",
       "   1356     2315.138227\n",
       "   1368     5074.659104\n",
       "   1380     4215.041741\n",
       "   1392     1135.749842\n",
       "   1404     4725.295531\n",
       "   1416     3834.034742\n",
       "   1428     1083.532030\n",
       "   1440     1615.991129\n",
       "   1452     1148.376626\n",
       "   1464     8527.844662\n",
       "   1476    14734.232750\n",
       "   1488     1643.485354\n",
       "   1500     1206.947913\n",
       "   1512      716.650072\n",
       "   1524      757.797418\n",
       "   1536      859.808657\n",
       "   1548     3023.271928\n",
       "   1560     1468.475631\n",
       "   1572     1969.100980\n",
       "   1584      734.753484\n",
       "   1596     9979.508487\n",
       "   1608    13990.482080\n",
       "   1620     5716.766744\n",
       "   1632     7689.799761\n",
       "   1644      605.066492\n",
       "   1656     1515.592329\n",
       "   1668      781.717576\n",
       "   1680     1147.388831\n",
       "   1692      406.884115\n",
       "   Name: gdpPercap, dtype: float64, 'xaxis': 'x1', 'y': 0       28.801\n",
       "   12      55.230\n",
       "   24      43.077\n",
       "   36      30.015\n",
       "   48      62.485\n",
       "   60      69.120\n",
       "   72      66.800\n",
       "   84      50.939\n",
       "   96      37.484\n",
       "   108     68.000\n",
       "   120     38.223\n",
       "   132     40.414\n",
       "   144     53.820\n",
       "   156     47.622\n",
       "   168     50.917\n",
       "   180     59.600\n",
       "   192     31.975\n",
       "   204     39.031\n",
       "   216     39.417\n",
       "   228     38.523\n",
       "   240     68.750\n",
       "   252     35.463\n",
       "   264     38.092\n",
       "   276     54.745\n",
       "   288     44.000\n",
       "   300     50.643\n",
       "   312     40.715\n",
       "   324     39.143\n",
       "   336     42.111\n",
       "   348     57.206\n",
       "            ...  \n",
       "   1344    30.331\n",
       "   1356    60.396\n",
       "   1368    64.360\n",
       "   1380    65.570\n",
       "   1392    32.978\n",
       "   1404    45.009\n",
       "   1416    64.940\n",
       "   1428    57.593\n",
       "   1440    38.635\n",
       "   1452    41.407\n",
       "   1464    71.860\n",
       "   1476    69.620\n",
       "   1488    45.883\n",
       "   1500    58.500\n",
       "   1512    41.215\n",
       "   1524    50.848\n",
       "   1536    38.596\n",
       "   1548    59.100\n",
       "   1560    44.600\n",
       "   1572    43.585\n",
       "   1584    39.978\n",
       "   1596    69.180\n",
       "   1608    68.440\n",
       "   1620    66.071\n",
       "   1632    55.088\n",
       "   1644    40.412\n",
       "   1656    43.160\n",
       "   1668    32.548\n",
       "   1680    42.038\n",
       "   1692    48.451\n",
       "   Name: lifeExp, dtype: float64}],\n",
       " 'layout': {'xaxis': {'domain': [0.0, 0.22],\n",
       "   'title': 'GDP per Capita',\n",
       "   'type': 'log'},\n",
       "  'xaxis1': {'domain': [0.78, 1.0], 'title': 'test'},\n",
       "  'yaxis': {'domain': [0.0, 0.22], 'title': 'Life Expectancy'},\n",
       "  'yaxis1': {'domain': [0.78, 1.0], 'title': 'test'}}}"
      ]
     },
     "execution_count": 25,
     "metadata": {},
     "output_type": "execute_result"
    }
   ],
   "source": [
    "fig"
   ]
  },
  {
   "cell_type": "code",
   "execution_count": 78,
   "metadata": {
    "collapsed": false
   },
   "outputs": [
    {
     "name": "stdout",
     "output_type": "stream",
     "text": [
      "This is the format of your plot grid:\n",
      "[ (1,1) x1,y1 ]  [ (1,2) x2,y2 ]\n",
      "\n"
     ]
    },
    {
     "data": {
      "text/html": [
       "<div id=\"97bff18f-be7d-4dc6-9610-4ef7e9ae7f67\" style=\"height: 525; width: 100%;\" class=\"plotly-graph-div\"></div><script type=\"text/javascript\">require([\"plotly\"], function(Plotly) { window.PLOTLYENV=window.PLOTLYENV || {};window.PLOTLYENV.BASE_URL=\"https://plot.ly\";Plotly.newPlot(\"97bff18f-be7d-4dc6-9610-4ef7e9ae7f67\", [{\"y\": [4, 5, 6], \"x\": [1, 2, 3], \"type\": \"scatter\", \"xaxis\": \"x1\", \"yaxis\": \"y1\"}, {\"y\": [50, 60, 70], \"x\": [20, 30, 40], \"type\": \"scatter\", \"xaxis\": \"x2\", \"yaxis\": \"y2\"}], {\"yaxis2\": {\"domain\": [0.0, 0.9], \"anchor\": \"x2\"}, \"xaxis2\": {\"domain\": [0.5, 0.9]}, \"xaxis\": {\"domain\": [0, 0.4]}, \"yaxis\": {\"domain\": [0, 0.9]}}, {\"linkText\": \"Export to plot.ly\", \"showLink\": true})});</script>"
      ],
      "text/plain": [
       "<IPython.core.display.HTML object>"
      ]
     },
     "metadata": {},
     "output_type": "display_data"
    }
   ],
   "source": [
    "from plotly import tools\n",
    "trace1 = {\n",
    "  'x': [1, 2, 3],\n",
    "  'y': [4, 5, 6],\n",
    "  'type': 'scatter'\n",
    "};\n",
    "\n",
    "trace2 = {\n",
    "  \"x\": [20, 30, 40],\n",
    "  \"y\": [50, 60, 70],\n",
    "  \"xaxis\": 'x2',\n",
    "  \"yaxis\": 'y2',\n",
    "  'type': 'scatter'\n",
    "};\n",
    "\n",
    "data = [trace1, trace2];\n",
    "\n",
    "layout = {\n",
    "  'xaxis': {'domain': [0, 0.4]},\n",
    "  'yaxis': {'domain': [0, 0.9]},\n",
    "  'yaxis2': {'domain': [0., .9],'anchor':'x2'},\n",
    "  'xaxis2': {'domain': [0.5, .9]}\n",
    "};\n",
    "\n",
    "fig = tools.make_subplots(rows=1, cols=2,subplot_titles=('Plot 1', 'Plot 2'))\n",
    "\n",
    "fig.append_trace(trace1, 1, 1)\n",
    "fig.append_trace(trace2, 1, 2)\n",
    "\n",
    "fig['layout'] = layout\n",
    "# fig['layout'].update(height=600, width=1000, title='i <3 subplots')\n",
    "# plot(fig)\n",
    "iplot(fig)"
   ]
  },
  {
   "cell_type": "code",
   "execution_count": 101,
   "metadata": {
    "collapsed": false
   },
   "outputs": [
    {
     "name": "stdout",
     "output_type": "stream",
     "text": [
      "This is the format of your plot grid:\n",
      "[ (1,1) x1,y1 ]  [ (1,2) x2,y2 ]\n",
      "[ (2,1) x3,y3 ]  [ (2,2) x4,y4 ]\n",
      "\n"
     ]
    },
    {
     "data": {
      "text/plain": [
       "'file:///Users/tommertens/Documents/CERN/Python/temp-plot.html'"
      ]
     },
     "execution_count": 101,
     "metadata": {},
     "output_type": "execute_result"
    }
   ],
   "source": [
    "import plotly.graph_objs as go\n",
    "\n",
    "\n",
    "trace1 = go.Scatter(x=[1, 2, 3], y=[4, 5, 6])\n",
    "\n",
    "trace2 = go.Scatter(x=[20, 30, 40], y=[50, 60, 70])\n",
    "\n",
    "trace3 = go.Scatter(x=[300, 400, 500], y=[600, 700, 800])\n",
    "\n",
    "trace4 = go.Scatter(x=[4000, 5000, 6000], y=[7000, 8000, 9000])\n",
    "\n",
    "fig = tools.make_subplots(rows=2, cols=2, subplot_titles=('Plot 1', 'Plot 2',\n",
    "                                                          'Plot 3', 'Plot 4'))\n",
    "\n",
    "fig.append_trace(trace1, 1, 1)\n",
    "fig.append_trace(trace2, 1, 2)\n",
    "fig.append_trace(trace3, 2, 1)\n",
    "fig.append_trace(trace4, 2, 2)\n",
    "\n",
    "# All of the axes properties here: https://plot.ly/python/reference/#XAxis\n",
    "fig['layout']['xaxis1'].update(title='xaxis 1 title')\n",
    "fig['layout']['xaxis2'].update(title='xaxis 2 title', range=[10, 50])\n",
    "fig['layout']['xaxis3'].update(title='xaxis 3 title', showgrid=False)\n",
    "fig['layout']['xaxis4'].update(title='xaxis 4 title', type='log')\n",
    "\n",
    "# All of the axes properties here: https://plot.ly/python/reference/#YAxis\n",
    "fig['layout']['yaxis1'].update(title='yaxis 1 title')\n",
    "fig['layout']['yaxis2'].update(title='yaxis 2 title', range=[40, 80])\n",
    "fig['layout']['yaxis3'].update(title='yaxis 3 title', showgrid=False)\n",
    "fig['layout']['yaxis4'].update(title='yaxis 4 title')\n",
    "\n",
    "fig['layout'].update(title='Customizing Subplot Axes')\n",
    "iplot(fig)"
   ]
  },
  {
   "cell_type": "code",
   "execution_count": 81,
   "metadata": {
    "collapsed": false
   },
   "outputs": [
    {
     "name": "stdout",
     "output_type": "stream",
     "text": [
      "This is the format of your plot grid:\n",
      "[ (1,1) x1,y1 ]  [ (1,2) x2,y2 ]\n",
      "[ (2,1) x3,y3           -      ]\n",
      "\n"
     ]
    },
    {
     "data": {
      "text/html": [
       "<div id=\"2769b2cb-d250-44e9-b291-f2deb27c4688\" style=\"height: 525; width: 100%;\" class=\"plotly-graph-div\"></div><script type=\"text/javascript\">require([\"plotly\"], function(Plotly) { window.PLOTLYENV=window.PLOTLYENV || {};window.PLOTLYENV.BASE_URL=\"https://plot.ly\";Plotly.newPlot(\"2769b2cb-d250-44e9-b291-f2deb27c4688\", [{\"y\": [1, 2], \"x\": [1, 2], \"type\": \"scatter\", \"xaxis\": \"x1\", \"yaxis\": \"y1\"}, {\"y\": [1, 2], \"x\": [1, 2], \"type\": \"scatter\", \"xaxis\": \"x2\", \"yaxis\": \"y2\"}, {\"y\": [2, 1, 2], \"x\": [1, 2, 3], \"type\": \"scatter\", \"xaxis\": \"x3\", \"yaxis\": \"y3\"}], {\"showlegend\": false, \"title\": \"Specs with Subplot Title\", \"xaxis3\": {\"domain\": [0.0, 1.0], \"anchor\": \"y3\"}, \"xaxis2\": {\"domain\": [0.55, 1.0], \"anchor\": \"y2\"}, \"xaxis1\": {\"domain\": [0.0, 0.45], \"anchor\": \"y1\"}, \"yaxis1\": {\"domain\": [0.625, 1.0], \"anchor\": \"x1\"}, \"yaxis2\": {\"domain\": [0.625, 1.0], \"anchor\": \"x2\"}, \"yaxis3\": {\"domain\": [0.0, 0.375], \"anchor\": \"x3\"}, \"annotations\": [{\"yanchor\": \"bottom\", \"xref\": \"paper\", \"xanchor\": \"center\", \"yref\": \"paper\", \"text\": \"First Subplot\", \"y\": 1.0, \"x\": 0.225, \"font\": {\"size\": 16}, \"showarrow\": false}, {\"yanchor\": \"bottom\", \"xref\": \"paper\", \"xanchor\": \"center\", \"yref\": \"paper\", \"text\": \"Second Subplot\", \"y\": 1.0, \"x\": 0.775, \"font\": {\"size\": 16}, \"showarrow\": false}, {\"yanchor\": \"bottom\", \"xref\": \"paper\", \"xanchor\": \"center\", \"yref\": \"paper\", \"text\": \"Third Subplot\", \"y\": 0.375, \"x\": 0.5, \"font\": {\"size\": 16}, \"showarrow\": false}]}, {\"linkText\": \"Export to plot.ly\", \"showLink\": true})});</script>"
      ],
      "text/plain": [
       "<IPython.core.display.HTML object>"
      ]
     },
     "metadata": {},
     "output_type": "display_data"
    }
   ],
   "source": [
    "trace0 = go.Scatter(\n",
    "    x=[1, 2],\n",
    "    y=[1, 2]\n",
    ")\n",
    "trace1 = go.Scatter(\n",
    "    x=[1, 2],\n",
    "    y=[1, 2]\n",
    ")\n",
    "trace2 = go.Scatter(\n",
    "    x=[1, 2, 3],\n",
    "    y=[2, 1, 2]\n",
    ")\n",
    "fig = tools.make_subplots(rows=2, cols=2, specs=[[{}, {}], [{'colspan': 2}, None]],\n",
    "                          subplot_titles=('First Subplot','Second Subplot', 'Third Subplot'))\n",
    "\n",
    "fig.append_trace(trace0, 1, 1)\n",
    "fig.append_trace(trace1, 1, 2)\n",
    "fig.append_trace(trace2, 2, 1)\n",
    "\n",
    "fig['layout'].update(showlegend=False, title='Specs with Subplot Title')\n",
    "iplot(fig)"
   ]
  },
  {
   "cell_type": "code",
   "execution_count": 83,
   "metadata": {
    "collapsed": false
   },
   "outputs": [
    {
     "data": {
      "text/html": [
       "<div id=\"2e9e73fc-dff2-4534-bb87-86c5474b083a\" style=\"height: 525; width: 100%;\" class=\"plotly-graph-div\"></div><script type=\"text/javascript\">require([\"plotly\"], function(Plotly) { window.PLOTLYENV=window.PLOTLYENV || {};window.PLOTLYENV.BASE_URL=\"https://plot.ly\";Plotly.newPlot(\"2e9e73fc-dff2-4534-bb87-86c5474b083a\", [{\"y\": [4, 5, 6], \"x\": [1, 2, 3], \"type\": \"scatter\"}, {\"y\": [50, 60, 70], \"x\": [20, 30, 40], \"type\": \"scatter\", \"xaxis\": \"x2\", \"yaxis\": \"y2\"}], {\"yaxis2\": {\"anchor\": \"x2\"}, \"xaxis2\": {\"domain\": [0.8, 1]}, \"xaxis\": {\"domain\": [0, 0.7]}}, {\"linkText\": \"Export to plot.ly\", \"showLink\": true})});</script>"
      ],
      "text/plain": [
       "<IPython.core.display.HTML object>"
      ]
     },
     "metadata": {},
     "output_type": "display_data"
    }
   ],
   "source": [
    "trace1 = go.Scatter(\n",
    "    x=[1, 2, 3],\n",
    "    y=[4, 5, 6]\n",
    ")\n",
    "trace2 = go.Scatter(\n",
    "    x=[20, 30, 40],\n",
    "    y=[50, 60, 70],\n",
    "    xaxis='x2',\n",
    "    yaxis='y2'\n",
    ")\n",
    "data = [trace1, trace2]\n",
    "layout = go.Layout(\n",
    "    xaxis=dict(\n",
    "        domain=[0, 0.7]\n",
    "    ),\n",
    "    xaxis2=dict(\n",
    "        domain=[0.8, 1]\n",
    "    ),\n",
    "    yaxis2=dict(\n",
    "        anchor='x2'\n",
    "    )\n",
    ")\n",
    "fig = go.Figure(data=data, layout=layout)\n",
    "url =iplot(fig)"
   ]
  },
  {
   "cell_type": "code",
   "execution_count": 95,
   "metadata": {
    "collapsed": false
   },
   "outputs": [
    {
     "name": "stdout",
     "output_type": "stream",
     "text": [
      "file:///Users/tommertens/Documents/CERN/Python/test.html\n"
     ]
    },
    {
     "name": "stderr",
     "output_type": "stream",
     "text": [
      "/Users/tommertens/anaconda/lib/python2.7/site-packages/plotly/offline/offline.py:259: UserWarning:\n",
      "\n",
      "Your filename `test` didn't end with .html. Adding .html to the end of your file.\n",
      "\n"
     ]
    }
   ],
   "source": [
    "url = plot(fig,filename='test.html')\n",
    "print url"
   ]
  },
  {
   "cell_type": "code",
   "execution_count": 87,
   "metadata": {
    "collapsed": true
   },
   "outputs": [],
   "source": [
    "?plot"
   ]
  },
  {
   "cell_type": "code",
   "execution_count": 93,
   "metadata": {
    "collapsed": false
   },
   "outputs": [
    {
     "ename": "TypeError",
     "evalue": "cannot concatenate 'str' and 'NoneType' objects",
     "output_type": "error",
     "traceback": [
      "\u001b[0;31m---------------------------------------------------------------------------\u001b[0m",
      "\u001b[0;31mTypeError\u001b[0m                                 Traceback (most recent call last)",
      "\u001b[0;32m<ipython-input-93-e0ea50a38ddf>\u001b[0m in \u001b[0;36m<module>\u001b[0;34m()\u001b[0m\n\u001b[1;32m     11\u001b[0m         \u001b[0;34m<\u001b[0m\u001b[0mh2\u001b[0m\u001b[0;34m>\u001b[0m\u001b[0mSection\u001b[0m \u001b[0;36m1\u001b[0m\u001b[0;34m:\u001b[0m \u001b[0mApple\u001b[0m \u001b[0mInc\u001b[0m\u001b[0;34m.\u001b[0m \u001b[0;34m(\u001b[0m\u001b[0mAAPL\u001b[0m\u001b[0;34m)\u001b[0m \u001b[0mstock\u001b[0m \u001b[0;32min\u001b[0m \u001b[0;36m2014\u001b[0m\u001b[0;34m<\u001b[0m\u001b[0;34m/\u001b[0m\u001b[0mh2\u001b[0m\u001b[0;34m>\u001b[0m\u001b[0;34m\u001b[0m\u001b[0m\n\u001b[1;32m     12\u001b[0m         \u001b[0;34m<\u001b[0m\u001b[0miframe\u001b[0m \u001b[0mwidth\u001b[0m\u001b[0;34m=\u001b[0m\u001b[0;34m\"1000\"\u001b[0m \u001b[0mheight\u001b[0m\u001b[0;34m=\u001b[0m\u001b[0;34m\"550\"\u001b[0m \u001b[0mframeborder\u001b[0m\u001b[0;34m=\u001b[0m\u001b[0;34m\"0\"\u001b[0m \u001b[0mseamless\u001b[0m\u001b[0;34m=\u001b[0m\u001b[0;34m\"seamless\"\u001b[0m \u001b[0mscrolling\u001b[0m\u001b[0;34m=\u001b[0m\u001b[0;34m\"no\"\u001b[0m\u001b[0;31m \u001b[0m\u001b[0;31m\\\u001b[0m\u001b[0;34m\u001b[0m\u001b[0m\n\u001b[0;32m---> 13\u001b[0;31m \u001b[0msrc\u001b[0m\u001b[0;34m=\u001b[0m\u001b[0;34m\"''' + url + '''.embed?width=800&height=550\"\u001b[0m\u001b[0;34m>\u001b[0m\u001b[0;34m<\u001b[0m\u001b[0;34m/\u001b[0m\u001b[0miframe\u001b[0m\u001b[0;34m>\u001b[0m\u001b[0;34m\u001b[0m\u001b[0m\n\u001b[0m\u001b[1;32m     14\u001b[0m \u001b[0;34m\u001b[0m\u001b[0m\n\u001b[1;32m     15\u001b[0m     \u001b[0;34m<\u001b[0m\u001b[0;34m/\u001b[0m\u001b[0mbody\u001b[0m\u001b[0;34m>\u001b[0m\u001b[0;34m\u001b[0m\u001b[0m\n",
      "\u001b[0;31mTypeError\u001b[0m: cannot concatenate 'str' and 'NoneType' objects"
     ]
    }
   ],
   "source": [
    "html_string = '''\n",
    "<html>\n",
    "    <head>\n",
    "        <link rel=\"stylesheet\" href=\"https://maxcdn.bootstrapcdn.com/bootstrap/3.3.1/css/bootstrap.min.css\">\n",
    "        <style>body{ margin:0 100; background:whitesmoke; }</style>\n",
    "    </head>\n",
    "    <body>\n",
    "        <h1>2014 technology and CPG stock prices</h1>\n",
    "\n",
    "        <!-- *** Section 1 *** --->\n",
    "        <h2>Section 1: Apple Inc. (AAPL) stock in 2014</h2>\n",
    "        <iframe width=\"1000\" height=\"550\" frameborder=\"0\" seamless=\"seamless\" scrolling=\"no\" \\\n",
    "src=\"''' + url + '''.embed?width=800&height=550\"></iframe>\n",
    "        \n",
    "    </body>\n",
    "</html>'''\n"
   ]
  },
  {
   "cell_type": "code",
   "execution_count": 90,
   "metadata": {
    "collapsed": true
   },
   "outputs": [],
   "source": [
    "f = open('report.html','w')\n",
    "f.write(html_string)\n",
    "f.close()"
   ]
  },
  {
   "cell_type": "code",
   "execution_count": 97,
   "metadata": {
    "collapsed": false
   },
   "outputs": [
    {
     "ename": "AttributeError",
     "evalue": "'module' object has no attribute 'plot'",
     "output_type": "error",
     "traceback": [
      "\u001b[0;31m---------------------------------------------------------------------------\u001b[0m",
      "\u001b[0;31mAttributeError\u001b[0m                            Traceback (most recent call last)",
      "\u001b[0;32m<ipython-input-97-ea3512cf9723>\u001b[0m in \u001b[0;36m<module>\u001b[0;34m()\u001b[0m\n\u001b[0;32m----> 1\u001b[0;31m \u001b[0mpy\u001b[0m\u001b[0;34m.\u001b[0m\u001b[0mplot\u001b[0m\u001b[0;34m(\u001b[0m\u001b[0mfig\u001b[0m\u001b[0;34m)\u001b[0m\u001b[0;34m\u001b[0m\u001b[0m\n\u001b[0m",
      "\u001b[0;31mAttributeError\u001b[0m: 'module' object has no attribute 'plot'"
     ]
    }
   ],
   "source": [
    "py.plot(fig)"
   ]
  },
  {
   "cell_type": "code",
   "execution_count": 122,
   "metadata": {
    "collapsed": true
   },
   "outputs": [],
   "source": [
    "def get_plotlyjs():\n",
    "    path = os.path.join('plotly.min.js')\n",
    "    plotlyjs = resource_string('plotly', path).decode('utf-8')\n",
    "    return plotlyjs\n",
    "\n",
    "from plotly import session, tools, utils\n",
    "import uuid\n",
    "import json\n",
    "\n",
    "\n",
    "\n",
    "def new_iplot(figure_or_data, show_link=True, link_text='Export to plot.ly',\n",
    "          validate=True):\n",
    "\n",
    "    figure = tools.return_figure_from_figure_or_data(figure_or_data, validate)\n",
    "\n",
    "    width = figure.get('layout', {}).get('width', '100%')\n",
    "    height = figure.get('layout', {}).get('height', 525)\n",
    "    try:\n",
    "        float(width)\n",
    "    except (ValueError, TypeError):\n",
    "        pass\n",
    "    else:\n",
    "        width = str(width) + 'px'\n",
    "\n",
    "    try:\n",
    "        float(width)\n",
    "    except (ValueError, TypeError):\n",
    "        pass\n",
    "    else:\n",
    "        width = str(width) + 'px'\n",
    "\n",
    "    plotdivid = uuid.uuid4()\n",
    "    jdata = json.dumps(figure.get('data', []), cls=utils.PlotlyJSONEncoder)\n",
    "    jlayout = json.dumps(figure.get('layout', {}), cls=utils.PlotlyJSONEncoder)\n",
    "\n",
    "    config = {}\n",
    "    config['showLink'] = show_link\n",
    "    config['linkText'] = link_text\n",
    "    jconfig = json.dumps(config)\n",
    "\n",
    "    plotly_platform_url = session.get_session_config().get('plotly_domain',\n",
    "                                                           'https://plot.ly')\n",
    "    if (plotly_platform_url != 'https://plot.ly' and\n",
    "            link_text == 'Export to plot.ly'):\n",
    "\n",
    "        link_domain = plotly_platform_url\\\n",
    "            .replace('https://', '')\\\n",
    "            .replace('http://', '')\n",
    "        link_text = link_text.replace('plot.ly', link_domain)\n",
    "\n",
    "\n",
    "    script = '\\n'.join([\n",
    "        'Plotly.plot(\"{id}\", {data}, {layout}, {config}).then(function() {{',\n",
    "        '    $(\".{id}.loading\").remove();',\n",
    "        '}})'\n",
    "    ]).format(id=plotdivid,\n",
    "              data=jdata,\n",
    "              layout=jlayout,\n",
    "              config=jconfig)\n",
    "\n",
    "    html=\"\"\"<div class=\"{id} loading\" style=\"color: rgb(50,50,50);\">\n",
    "                 Drawing...</div>\n",
    "                 <div id=\"{id}\" style=\"height: {height}; width: {width};\" \n",
    "                 class=\"plotly-graph-div\">\n",
    "                 </div>\n",
    "                 <script type=\"text/javascript\">\n",
    "                 {script}\n",
    "                 </script>\n",
    "                 \"\"\".format(id=plotdivid, script=script,\n",
    "                           height=height, width=width)\n",
    "\n",
    "    return html"
   ]
  },
  {
   "cell_type": "code",
   "execution_count": 134,
   "metadata": {
    "collapsed": true
   },
   "outputs": [],
   "source": [
    "from plotly.graph_objs import Scatter\n",
    "import numpy as np\n",
    "\n",
    "N = 10\n",
    "random_x = np.random.randn(N)\n",
    "random_y = np.random.randn(N)\n",
    "\n",
    "# Create a trace\n",
    "trace = Scatter(\n",
    "    x = random_x,\n",
    "    y = random_y,\n",
    "    mode = 'markers'\n",
    ")\n",
    "\n",
    "trace1 = go.Scatter(\n",
    "    x=[1, 2, 3],\n",
    "    y=[4, 5, 6]\n",
    ")\n",
    "trace2 = go.Scatter(\n",
    "    x=[20, 30, 40],\n",
    "    y=[50, 60, 70],\n",
    "    xaxis='x2',\n",
    "    yaxis='y2'\n",
    ")\n",
    "data = [trace1, trace2]\n",
    "layout = go.Layout(\n",
    "    xaxis=dict(\n",
    "        domain=[0, 0.7]\n",
    "    ),\n",
    "    xaxis2=dict(\n",
    "        domain=[0.8, 1]\n",
    "    ),\n",
    "    yaxis2=dict(\n",
    "        anchor='x2'\n",
    "    )\n",
    ")\n",
    "fig = go.Figure(data=data, layout=layout)\n",
    "#call our modified function to generate html\n",
    "html=new_iplot(fig,show_link=False)"
   ]
  },
  {
   "cell_type": "code",
   "execution_count": 135,
   "metadata": {
    "collapsed": false
   },
   "outputs": [
    {
     "name": "stdout",
     "output_type": "stream",
     "text": [
      "<div class=\"fb8977a0-1d30-4027-a681-762293cb59ea loading\" style=\"color: rgb(50,50,50);\">\n",
      "                 Drawing...</div>\n",
      "                 <div id=\"fb8977a0-1d30-4027-a681-762293cb59ea\" style=\"height: 525; width: 100%;\" \n",
      "                 class=\"plotly-graph-div\">\n",
      "                 </div>\n",
      "                 <script type=\"text/javascript\">\n",
      "                 Plotly.plot(\"fb8977a0-1d30-4027-a681-762293cb59ea\", [{\"y\": [4, 5, 6], \"x\": [1, 2, 3], \"type\": \"scatter\"}, {\"y\": [50, 60, 70], \"x\": [20, 30, 40], \"type\": \"scatter\", \"xaxis\": \"x2\", \"yaxis\": \"y2\"}], {\"yaxis2\": {\"anchor\": \"x2\"}, \"xaxis2\": {\"domain\": [0.8, 1]}, \"xaxis\": {\"domain\": [0, 0.7]}}, {\"linkText\": \"Export to plot.ly\", \"showLink\": false}).then(function() {\n",
      "    $(\".fb8977a0-1d30-4027-a681-762293cb59ea.loading\").remove();\n",
      "})\n",
      "                 </script>\n",
      "                 \n"
     ]
    }
   ],
   "source": [
    "print html"
   ]
  },
  {
   "cell_type": "code",
   "execution_count": 136,
   "metadata": {
    "collapsed": false
   },
   "outputs": [],
   "source": [
    "ddict = {'dd':html}\n",
    "html_string = '''\n",
    "<html>\n",
    "    <head>\n",
    "<script src=\"plotly-latest.min.js\"></script>\n",
    "</head>\n",
    "<body>\n",
    "{dd}\n",
    "</body>\n",
    "</html>'''.format(**ddict)"
   ]
  },
  {
   "cell_type": "code",
   "execution_count": 137,
   "metadata": {
    "collapsed": true
   },
   "outputs": [],
   "source": [
    "f = open('report.html','w')\n",
    "f.write(html_string)\n",
    "f.close()"
   ]
  },
  {
   "cell_type": "code",
   "execution_count": 138,
   "metadata": {
    "collapsed": false
   },
   "outputs": [
    {
     "data": {
      "text/html": [
       "<div id=\"37719a4d-4954-463e-8f13-106d710150f9\" style=\"height: 525; width: 100%;\" class=\"plotly-graph-div\"></div><script type=\"text/javascript\">require([\"plotly\"], function(Plotly) { window.PLOTLYENV=window.PLOTLYENV || {};window.PLOTLYENV.BASE_URL=\"https://plot.ly\";Plotly.newPlot(\"37719a4d-4954-463e-8f13-106d710150f9\", [{\"y\": [4, 5, 6], \"x\": [1, 2, 3], \"type\": \"scatter\"}, {\"y\": [50, 60, 70], \"x\": [20, 30, 40], \"type\": \"scatter\", \"xaxis\": \"x2\", \"yaxis\": \"y2\"}], {\"yaxis2\": {\"anchor\": \"x2\"}, \"xaxis2\": {\"domain\": [0.8, 1]}, \"xaxis\": {\"domain\": [0, 0.7]}}, {\"linkText\": \"Export to plot.ly\", \"showLink\": true})});</script>"
      ],
      "text/plain": [
       "<IPython.core.display.HTML object>"
      ]
     },
     "metadata": {},
     "output_type": "display_data"
    }
   ],
   "source": [
    "iplot(fig,show_link=True)"
   ]
  },
  {
   "cell_type": "code",
   "execution_count": 140,
   "metadata": {
    "collapsed": false
   },
   "outputs": [
    {
     "name": "stdout",
     "output_type": "stream",
     "text": [
      "This is the format of your plot grid:\n",
      "[ (1,1) x1,y1 ]  [ (1,2) x2,y2 ]\n",
      "[ (2,1) x3,y3           -      ]\n",
      "\n",
      "<div class=\"9c43ecad-69b2-4377-8ebd-c10ff0692b7b loading\" style=\"color: rgb(50,50,50);\">\n",
      "                 Drawing...</div>\n",
      "                 <div id=\"9c43ecad-69b2-4377-8ebd-c10ff0692b7b\" style=\"height: 525; width: 100%;\" \n",
      "                 class=\"plotly-graph-div\">\n",
      "                 </div>\n",
      "                 <script type=\"text/javascript\">\n",
      "                 Plotly.plot(\"9c43ecad-69b2-4377-8ebd-c10ff0692b7b\", [{\"y\": [1, 2], \"x\": [1, 2], \"type\": \"scatter\", \"xaxis\": \"x1\", \"yaxis\": \"y1\"}, {\"y\": [1, 2], \"x\": [1, 2], \"type\": \"scatter\", \"xaxis\": \"x2\", \"yaxis\": \"y2\"}, {\"y\": [2, 1, 2], \"x\": [1, 2, 3], \"type\": \"scatter\", \"xaxis\": \"x3\", \"yaxis\": \"y3\"}], {\"showlegend\": false, \"title\": \"Specs with Subplot Title\", \"xaxis3\": {\"domain\": [0.0, 1.0], \"anchor\": \"y3\"}, \"xaxis2\": {\"domain\": [0.55, 1.0], \"anchor\": \"y2\"}, \"xaxis1\": {\"domain\": [0.0, 0.45], \"anchor\": \"y1\"}, \"yaxis1\": {\"domain\": [0.625, 1.0], \"anchor\": \"x1\"}, \"yaxis2\": {\"domain\": [0.625, 1.0], \"anchor\": \"x2\"}, \"yaxis3\": {\"domain\": [0.0, 0.375], \"anchor\": \"x3\"}, \"annotations\": [{\"yanchor\": \"bottom\", \"xref\": \"paper\", \"xanchor\": \"center\", \"yref\": \"paper\", \"text\": \"First Subplot\", \"y\": 1.0, \"x\": 0.225, \"font\": {\"size\": 16}, \"showarrow\": false}, {\"yanchor\": \"bottom\", \"xref\": \"paper\", \"xanchor\": \"center\", \"yref\": \"paper\", \"text\": \"Second Subplot\", \"y\": 1.0, \"x\": 0.775, \"font\": {\"size\": 16}, \"showarrow\": false}, {\"yanchor\": \"bottom\", \"xref\": \"paper\", \"xanchor\": \"center\", \"yref\": \"paper\", \"text\": \"Third Subplot\", \"y\": 0.375, \"x\": 0.5, \"font\": {\"size\": 16}, \"showarrow\": false}]}, {\"linkText\": \"Export to plot.ly\", \"showLink\": false}).then(function() {\n",
      "    $(\".9c43ecad-69b2-4377-8ebd-c10ff0692b7b.loading\").remove();\n",
      "})\n",
      "                 </script>\n",
      "                 \n"
     ]
    }
   ],
   "source": [
    "trace00 = go.Scatter(\n",
    "    x=[1, 2],\n",
    "    y=[1, 2]\n",
    ")\n",
    "trace10 = go.Scatter(\n",
    "    x=[1, 2],\n",
    "    y=[1, 2]\n",
    ")\n",
    "trace20 = go.Scatter(\n",
    "    x=[1, 2, 3],\n",
    "    y=[2, 1, 2]\n",
    ")\n",
    "fig2 = tools.make_subplots(rows=2, cols=2, specs=[[{}, {}], [{'colspan': 2}, None]],\n",
    "                          subplot_titles=('First Subplot','Second Subplot', 'Third Subplot'))\n",
    "\n",
    "fig2.append_trace(trace00, 1, 1)\n",
    "fig2.append_trace(trace10, 1, 2)\n",
    "fig2.append_trace(trace20, 2, 1)\n",
    "\n",
    "fig2['layout'].update(showlegend=False, title='Specs with Subplot Title')\n",
    "html2=new_iplot(fig2,show_link=False)\n",
    "print html2"
   ]
  },
  {
   "cell_type": "code",
   "execution_count": 145,
   "metadata": {
    "collapsed": true
   },
   "outputs": [],
   "source": [
    "ddict = {'dd':html,'ddd':html2}\n",
    "html_string = '''\n",
    "<html>\n",
    "    <head>\n",
    "<script src=\"plotly-latest.min.js\"></script>\n",
    "</head>\n",
    "<body>\n",
    " <h1>2014 technology and CPG stock prices</h1>\n",
    "\n",
    "        <!-- *** Section 1 *** --->\n",
    "        <h2>Section 1: Apple Inc. (AAPL) stock in 2014</h2>\n",
    "{dd}\n",
    "<h2>Section 2: Apple Inc. (AAPL) stock in 2014</h2>\n",
    "{ddd}\n",
    "</body>\n",
    "</html>'''.format(**ddict)"
   ]
  },
  {
   "cell_type": "code",
   "execution_count": 146,
   "metadata": {
    "collapsed": true
   },
   "outputs": [],
   "source": [
    "f = open('report.html','w')\n",
    "f.write(html_string)\n",
    "f.close()"
   ]
  },
  {
   "cell_type": "code",
   "execution_count": null,
   "metadata": {
    "collapsed": true
   },
   "outputs": [],
   "source": []
  }
 ],
 "metadata": {
  "kernelspec": {
   "display_name": "Python 2",
   "language": "python",
   "name": "python2"
  },
  "language_info": {
   "codemirror_mode": {
    "name": "ipython",
    "version": 2
   },
   "file_extension": ".py",
   "mimetype": "text/x-python",
   "name": "python",
   "nbconvert_exporter": "python",
   "pygments_lexer": "ipython2",
   "version": "2.7.11"
  }
 },
 "nbformat": 4,
 "nbformat_minor": 0
}
